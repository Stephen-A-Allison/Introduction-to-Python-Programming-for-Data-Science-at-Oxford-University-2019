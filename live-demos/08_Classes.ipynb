{
 "cells": [
  {
   "cell_type": "markdown",
   "metadata": {},
   "source": [
    "## Classes: an example"
   ]
  },
  {
   "cell_type": "code",
   "execution_count": 30,
   "metadata": {},
   "outputs": [],
   "source": [
    "class Author:\n",
    "    \n",
    "    repr_template = 'Author(\"{} {}\")'\n",
    "\n",
    "    def __init__(self, name, surname): # “constructor”\n",
    "        self.name = name   \n",
    "        self.surname = surname \n",
    "        \n",
    "    def boo(self):\n",
    "        print('Boo {}'.format(self.name))\n",
    "    \n",
    "    def __repr__(self): # string representation \n",
    "        return Author.repr_template.format(self.name, self.surname)\n",
    "    \n",
    "    def __eq__(self, other):\n",
    "        return isinstance(other, Author) and self.name == other.name and self.surname == other.surname"
   ]
  },
  {
   "cell_type": "code",
   "execution_count": 34,
   "metadata": {},
   "outputs": [
    {
     "name": "stdout",
     "output_type": "stream",
     "text": [
      "Author(\"Ronald Tolkien\")\n"
     ]
    }
   ],
   "source": [
    "jrrt = Author('J.R.R', 'Tolkien')\n",
    "jrrt.name = 'Ronald'\n",
    "print(jrrt)"
   ]
  },
  {
   "cell_type": "code",
   "execution_count": 33,
   "metadata": {},
   "outputs": [
    {
     "name": "stdout",
     "output_type": "stream",
     "text": [
      "Boo J.R.R\n"
     ]
    }
   ],
   "source": [
    "jrrt.name\n",
    "jrrt.boo()"
   ]
  },
  {
   "cell_type": "code",
   "execution_count": 19,
   "metadata": {},
   "outputs": [
    {
     "name": "stdout",
     "output_type": "stream",
     "text": [
      "Author(\"J.R.R Tolkien\")\n"
     ]
    }
   ],
   "source": [
    "print(jrrt)"
   ]
  },
  {
   "cell_type": "code",
   "execution_count": 22,
   "metadata": {},
   "outputs": [
    {
     "name": "stdout",
     "output_type": "stream",
     "text": [
      "Author(\"J.R.R Tolkien\")\n"
     ]
    }
   ],
   "source": [
    "\n",
    "jj = Author('James', 'Joyce')\n",
    "jj2 = Author('James', 'Joyce')\n",
    "kf = Author('Ken', 'Follet')\n",
    "jrrt.repr_template\n",
    "print(jrrt)"
   ]
  },
  {
   "cell_type": "code",
   "execution_count": 23,
   "metadata": {},
   "outputs": [
    {
     "data": {
      "text/plain": [
       "True"
      ]
     },
     "execution_count": 23,
     "metadata": {},
     "output_type": "execute_result"
    }
   ],
   "source": [
    "jj == jj2"
   ]
  },
  {
   "cell_type": "code",
   "execution_count": 35,
   "metadata": {},
   "outputs": [
    {
     "name": "stdout",
     "output_type": "stream",
     "text": [
      "J.R.R\n"
     ]
    },
    {
     "data": {
      "text/plain": [
       "'J.R.R Tolkien'"
      ]
     },
     "execution_count": 35,
     "metadata": {},
     "output_type": "execute_result"
    }
   ],
   "source": [
    "class Author:\n",
    "    \n",
    "    repr_template = 'Author(\"{} {}\")'\n",
    "    \n",
    "    def __init__(self, name, surname): # constructor\n",
    "        self._name = name   # underscore, “private”\n",
    "        self._surname = surname # as above\n",
    "    \n",
    "    def __repr__(self): # string representation \n",
    "        return Author.repr_template.format(self._name, self._surname)\n",
    "\n",
    "    @property  # this is an “decorator”\n",
    "    def full_name(self):\n",
    "        return '{} {}'.format(self._name, self._surname)\n",
    "    \n",
    "jrrt = Author('J.R.R', 'Tolkien')\n",
    "print(jrrt._name)\n",
    "jrrt.full_name"
   ]
  },
  {
   "cell_type": "code",
   "execution_count": 38,
   "metadata": {},
   "outputs": [],
   "source": [
    "class Author:\n",
    "    \n",
    "    repr_template = 'Author({} {})'\n",
    "    \n",
    "    def __init__(self, name, surname): # constructor\n",
    "        self.__name = name   # double underscore, “private”\n",
    "        self.__surname = surname # as above\n",
    "        \n",
    "    def __repr__(self): # string representation \n",
    "        return self.repr_template.format(self.__name, self.__surname)\n",
    "    \n",
    "    @classmethod\n",
    "    def fromdict(cls, auth_dict):\n",
    "        return cls(\n",
    "            name=auth_dict['name'], \n",
    "            surname=auth_dict['surname']\n",
    "        )\n",
    "\n",
    "    @property  # this is an “annotation”\n",
    "    def full_name(self):\n",
    "        return '{} {}'.format(self.__name, self.__surname)\n",
    "    \n",
    "    # this can be used as jrrt.full_name = ‘J.R.R. Tolkien’\n",
    "    @full_name.setter # this can be used as\n",
    "    def full_name(self, full_name):\n",
    "        self.__name = full_name.split(' ')[0]\n",
    "        self.__surname = full_name.split(' ')[1]\n",
    "\n",
    "\n"
   ]
  },
  {
   "cell_type": "code",
   "execution_count": 41,
   "metadata": {},
   "outputs": [
    {
     "data": {
      "text/plain": [
       "'J.R.R'"
      ]
     },
     "execution_count": 41,
     "metadata": {},
     "output_type": "execute_result"
    }
   ],
   "source": [
    "jrrt = Author('J.R.R', 'Tolkien')\n",
    "jj = Author('James', 'Joyce')\n",
    "kf = Author('Ken', 'Follet')\n",
    "dir(jrrt)\n",
    "jrrt._Author__name"
   ]
  },
  {
   "cell_type": "code",
   "execution_count": 42,
   "metadata": {},
   "outputs": [
    {
     "data": {
      "text/plain": [
       "'J.R.R Tolkien'"
      ]
     },
     "execution_count": 42,
     "metadata": {},
     "output_type": "execute_result"
    }
   ],
   "source": [
    "jrrt.full_name"
   ]
  },
  {
   "cell_type": "code",
   "execution_count": 43,
   "metadata": {},
   "outputs": [
    {
     "data": {
      "text/plain": [
       "'JRR Tolkien'"
      ]
     },
     "execution_count": 43,
     "metadata": {},
     "output_type": "execute_result"
    }
   ],
   "source": [
    "jrrt.full_name = 'JRR Tolkien'\n",
    "jrrt.full_name"
   ]
  },
  {
   "cell_type": "code",
   "execution_count": 44,
   "metadata": {},
   "outputs": [
    {
     "name": "stdout",
     "output_type": "stream",
     "text": [
      "Author(James Joyce)\n"
     ]
    }
   ],
   "source": [
    "jj = Author.fromdict({'name': 'James', 'surname': 'Joyce'})\n",
    "print(jj)"
   ]
  },
  {
   "cell_type": "code",
   "execution_count": 46,
   "metadata": {},
   "outputs": [],
   "source": [
    "class Screenwriter(Author):\n",
    "    \n",
    "    repr_template = 'ScreenplaysAuthor({} {})'\n",
    "    \n",
    "    def __init__(self, name, surname, films=[]):\n",
    "        super().__init__(name, surname)\n",
    "        self.films = films\n",
    "        \n",
    "    def add_screenplay(self, film_name):\n",
    "        self.films.append(film_name)\n",
    "        \n",
    "\n",
    "        "
   ]
  },
  {
   "cell_type": "code",
   "execution_count": 47,
   "metadata": {},
   "outputs": [],
   "source": [
    "pj = Screenwriter(\n",
    "    'Peter', 'Jackson', \n",
    "    films=[\n",
    "        'Bad Taste', \n",
    "        'Heavenly Creatures', \n",
    "        'The Return of the King']\n",
    ")\n"
   ]
  },
  {
   "cell_type": "code",
   "execution_count": 48,
   "metadata": {},
   "outputs": [
    {
     "name": "stdout",
     "output_type": "stream",
     "text": [
      "ScreenplaysAuthor(Peter Jackson)\n"
     ]
    }
   ],
   "source": [
    "print(pj)"
   ]
  },
  {
   "cell_type": "code",
   "execution_count": 49,
   "metadata": {},
   "outputs": [
    {
     "data": {
      "text/plain": [
       "['Bad Taste', 'Heavenly Creatures', 'The Return of the King', 'King Kong']"
      ]
     },
     "execution_count": 49,
     "metadata": {},
     "output_type": "execute_result"
    }
   ],
   "source": [
    "pj.add_screenplay('King Kong')\n",
    "pj.films"
   ]
  },
  {
   "cell_type": "code",
   "execution_count": null,
   "metadata": {},
   "outputs": [],
   "source": []
  }
 ],
 "metadata": {
  "kernelspec": {
   "display_name": "Python 3",
   "language": "python",
   "name": "python3"
  },
  "language_info": {
   "codemirror_mode": {
    "name": "ipython",
    "version": 3
   },
   "file_extension": ".py",
   "mimetype": "text/x-python",
   "name": "python",
   "nbconvert_exporter": "python",
   "pygments_lexer": "ipython3",
   "version": "3.7.4"
  }
 },
 "nbformat": 4,
 "nbformat_minor": 4
}
