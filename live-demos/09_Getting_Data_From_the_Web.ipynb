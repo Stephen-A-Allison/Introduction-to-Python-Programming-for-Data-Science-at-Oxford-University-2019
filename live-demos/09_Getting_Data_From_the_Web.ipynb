{
 "cells": [
  {
   "cell_type": "markdown",
   "metadata": {},
   "source": [
    "## Getting data from web sources: web scraping from BeautifulSoup"
   ]
  },
  {
   "cell_type": "code",
   "execution_count": null,
   "metadata": {},
   "outputs": [],
   "source": [
    "## import some stuff\n",
    "\n",
    "import pandas as pd\n",
    "import matplotlib.pyplot as plt\n",
    "from bs4 import BeautifulSoup\n",
    "from IPython.core.display import clear_output\n",
    "import requests\n",
    "import pprint\n",
    "pp = pprint.PrettyPrinter(indent=2)"
   ]
  },
  {
   "cell_type": "code",
   "execution_count": null,
   "metadata": {},
   "outputs": [],
   "source": [
    "url = 'https://en.wikipedia.org/wiki/List_of_Solar_System_objects_by_size'\n",
    "r = requests.get(url)"
   ]
  },
  {
   "cell_type": "code",
   "execution_count": null,
   "metadata": {},
   "outputs": [],
   "source": [
    "r.status_code"
   ]
  },
  {
   "cell_type": "code",
   "execution_count": null,
   "metadata": {},
   "outputs": [],
   "source": [
    "r.headers"
   ]
  },
  {
   "cell_type": "code",
   "execution_count": null,
   "metadata": {},
   "outputs": [],
   "source": [
    "r.headers['Content-Type']"
   ]
  },
  {
   "cell_type": "code",
   "execution_count": null,
   "metadata": {},
   "outputs": [],
   "source": [
    "r.text"
   ]
  },
  {
   "cell_type": "code",
   "execution_count": null,
   "metadata": {},
   "outputs": [],
   "source": [
    "page_html = BeautifulSoup(r.text, 'html.parser')\n",
    "page_html"
   ]
  },
  {
   "cell_type": "code",
   "execution_count": null,
   "metadata": {},
   "outputs": [],
   "source": [
    "tables = page_html.find_all('table', {'class': 'wikitable'})\n",
    "len(tables)"
   ]
  },
  {
   "cell_type": "code",
   "execution_count": null,
   "metadata": {},
   "outputs": [],
   "source": [
    "dfs = []\n",
    "\n",
    "def parse_header(table_rows):\n",
    "    headers = []\n",
    "    header_rows = [row for row in table_rows if row.find('th')]\n",
    "    main_header_row = header_rows[0]\n",
    "    # print(main_header_row)\n",
    "    h_els = main_header_row.find_all('th')\n",
    "    for h_el in h_els:\n",
    "        rep_col = int(h_el.get('colspan', 1))\n",
    "        for i in range(rep_col):\n",
    "            if i > 0:\n",
    "                headers.append('{}_{}'.format(h_el.text.strip(), i+1))\n",
    "            else: \n",
    "                headers.append(h_el.text.strip())\n",
    "    return headers\n",
    "\n",
    "def parse_body(table_rows):\n",
    "    return None  # TODO implement me!!\n",
    "        \n",
    "for table in tables:\n",
    "    data = []\n",
    "    rows = table.find_all('tr')\n",
    "    columns = parse_header(rows)\n",
    "    dfs.append(\n",
    "        pd.DataFrame(\n",
    "            data=parse_body(rows), \n",
    "            columns=parse_header(rows)\n",
    "        )\n",
    "    )\n",
    "\n",
    "for df in dfs:\n",
    "    print(df.head())\n",
    "    \n",
    "    "
   ]
  },
  {
   "cell_type": "markdown",
   "metadata": {},
   "source": [
    "### Getting data from web sources: Web API"
   ]
  },
  {
   "cell_type": "code",
   "execution_count": null,
   "metadata": {},
   "outputs": [],
   "source": [
    "BASE_URL = 'https://api.le-systeme-solaire.net/rest'\n",
    "url = BASE_URL + '/bodies'\n",
    "res = requests.get(url, params = {'page': '1, 100'})\n",
    "res_payload = res.json()"
   ]
  },
  {
   "cell_type": "code",
   "execution_count": null,
   "metadata": {},
   "outputs": [],
   "source": [
    "len(res_payload['bodies'])"
   ]
  },
  {
   "cell_type": "code",
   "execution_count": null,
   "metadata": {},
   "outputs": [],
   "source": [
    "[body.get('englishName') for body in res_payload['bodies']]"
   ]
  },
  {
   "cell_type": "code",
   "execution_count": null,
   "metadata": {},
   "outputs": [],
   "source": [
    "import json\n",
    "sol_syst_bodies = pd.read_json(json.dumps(res_payload['bodies']), orient='records')\n",
    "sol_syst_bodies.head()"
   ]
  },
  {
   "cell_type": "code",
   "execution_count": null,
   "metadata": {},
   "outputs": [],
   "source": [
    "sol_syst_bodies['mass'] "
   ]
  },
  {
   "cell_type": "code",
   "execution_count": null,
   "metadata": {},
   "outputs": [],
   "source": [
    "sol_syst_bodies['mass'] = sol_syst_bodies['mass'].apply(\n",
    "    lambda el: el['massValue']*10**el['massExponent'] if isinstance(el, dict) else el\n",
    ")"
   ]
  },
  {
   "cell_type": "code",
   "execution_count": null,
   "metadata": {},
   "outputs": [],
   "source": [
    "sol_syst_bodies.describe()"
   ]
  },
  {
   "cell_type": "code",
   "execution_count": null,
   "metadata": {},
   "outputs": [],
   "source": []
  }
 ],
 "metadata": {
  "kernelspec": {
   "display_name": "Python 3",
   "language": "python",
   "name": "python3"
  },
  "language_info": {
   "codemirror_mode": {
    "name": "ipython",
    "version": 3
   },
   "file_extension": ".py",
   "mimetype": "text/x-python",
   "name": "python",
   "nbconvert_exporter": "python",
   "pygments_lexer": "ipython3",
   "version": "3.7.4"
  }
 },
 "nbformat": 4,
 "nbformat_minor": 2
}
