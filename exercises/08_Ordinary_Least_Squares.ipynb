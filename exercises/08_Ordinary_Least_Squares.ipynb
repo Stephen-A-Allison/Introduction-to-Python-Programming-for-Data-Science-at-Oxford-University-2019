{
 "cells": [
  {
   "cell_type": "markdown",
   "metadata": {},
   "source": [
    "## Classes for Data Science: a linear regression example"
   ]
  },
  {
   "cell_type": "code",
   "execution_count": 14,
   "metadata": {},
   "outputs": [],
   "source": [
    "import numpy as np\n",
    "np.set_printoptions(precision=3)"
   ]
  },
  {
   "cell_type": "code",
   "execution_count": 15,
   "metadata": {},
   "outputs": [],
   "source": [
    "# generate data\n",
    "babies = range(10)\n",
    "months = np.arange(13)\n",
    "data = [(month, np.dot(month, 24.7) + 96 + np.random.normal(loc=0, scale=20))\n",
    "        for month in months\n",
    "        for baby in babies]\n",
    "month_data = [element[0] for element in data]\n",
    "weight_data = [element[1] for element in data]"
   ]
  },
  {
   "cell_type": "code",
   "execution_count": 16,
   "metadata": {},
   "outputs": [
    {
     "data": {
      "text/plain": [
       "[85.14791391272297,\n",
       " 76.07438201320798,\n",
       " 92.2663782791153,\n",
       " 84.2863972040712,\n",
       " 66.69591777801858,\n",
       " 50.87622513825804,\n",
       " 126.74263871346291,\n",
       " 65.08411845467336,\n",
       " 82.07520848897605,\n",
       " 100.06483903427157,\n",
       " 101.54457645164601,\n",
       " 103.61636595288388,\n",
       " 138.1762851868682,\n",
       " 103.80244530197778,\n",
       " 142.75581434472522,\n",
       " 121.44477215570357,\n",
       " 116.18822602437909,\n",
       " 123.34390348009326,\n",
       " 118.40639365648349,\n",
       " 86.90501611193315,\n",
       " 149.71647243435567,\n",
       " 128.1600721909425,\n",
       " 183.72688011730332,\n",
       " 182.56750191693254,\n",
       " 136.48387684336154,\n",
       " 155.29406115777834,\n",
       " 147.17118115302387,\n",
       " 147.63306643391743,\n",
       " 156.6546176681209,\n",
       " 118.29363927032298,\n",
       " 170.62134130145418,\n",
       " 184.76639672210482,\n",
       " 139.6159576393419,\n",
       " 196.00569851262566,\n",
       " 177.75705958556384,\n",
       " 172.00152398696667,\n",
       " 159.47445841036074,\n",
       " 176.6926582420477,\n",
       " 162.84202097041765,\n",
       " 165.36116585230445,\n",
       " 207.1248508609935,\n",
       " 191.70662063526504,\n",
       " 195.51977064493036,\n",
       " 172.82904393248253,\n",
       " 176.48247883069786,\n",
       " 182.55262110729808,\n",
       " 182.78321334157252,\n",
       " 193.03316021992063,\n",
       " 213.02458770932463,\n",
       " 202.0802529358677,\n",
       " 249.43492941625803,\n",
       " 214.1804822409545,\n",
       " 240.70175853726593,\n",
       " 221.68770562406675,\n",
       " 205.92286420095797,\n",
       " 241.17003538324695,\n",
       " 196.37461152743032,\n",
       " 228.839042952061,\n",
       " 185.30707616973308,\n",
       " 250.50398181148128,\n",
       " 248.08857585368264,\n",
       " 238.18843268574787,\n",
       " 205.89503405193744,\n",
       " 247.9770003717456,\n",
       " 185.1623259792235,\n",
       " 227.3268957282681,\n",
       " 241.6271170474002,\n",
       " 232.23062371689696,\n",
       " 218.17110461919964,\n",
       " 261.0433263359726,\n",
       " 263.2139381483811,\n",
       " 284.30237153920615,\n",
       " 250.72590736300333,\n",
       " 231.66904625858837,\n",
       " 245.8462330509457,\n",
       " 242.7128253378072,\n",
       " 232.23771125069496,\n",
       " 264.12943097324165,\n",
       " 262.8513358545529,\n",
       " 264.177952552018,\n",
       " 310.2666207437851,\n",
       " 313.4423536704004,\n",
       " 275.5505532664854,\n",
       " 299.6095964739204,\n",
       " 295.2708734736096,\n",
       " 276.06823537776734,\n",
       " 302.8576834967827,\n",
       " 297.98306732561423,\n",
       " 279.1961123701205,\n",
       " 280.97696470562613,\n",
       " 326.9211919659525,\n",
       " 301.2257610632872,\n",
       " 351.01783165137454,\n",
       " 332.2311565572905,\n",
       " 302.9540741440762,\n",
       " 295.4694955516269,\n",
       " 340.14582559399673,\n",
       " 339.4391356688455,\n",
       " 320.82945957646524,\n",
       " 333.88176588882897,\n",
       " 370.5134398225533,\n",
       " 339.28731076096113,\n",
       " 348.4200662889779,\n",
       " 345.2749120819924,\n",
       " 335.6538984092844,\n",
       " 338.991842972203,\n",
       " 344.68948104545683,\n",
       " 361.5526342706502,\n",
       " 320.2298729004021,\n",
       " 318.12633463690685,\n",
       " 365.8915405541493,\n",
       " 351.02517518541737,\n",
       " 415.6239724982788,\n",
       " 352.57899888048007,\n",
       " 313.30854271307874,\n",
       " 393.928758829753,\n",
       " 370.8439557343083,\n",
       " 389.28393685907815,\n",
       " 351.0596820157739,\n",
       " 393.195525297369,\n",
       " 373.5763157744955,\n",
       " 397.31119623637704,\n",
       " 393.99058750866794,\n",
       " 412.41093042547203,\n",
       " 368.42658633840347,\n",
       " 377.7682384861104,\n",
       " 373.06479228082804,\n",
       " 399.1615597508374,\n",
       " 370.5849418731826,\n",
       " 418.2768954970547]"
      ]
     },
     "execution_count": 16,
     "metadata": {},
     "output_type": "execute_result"
    }
   ],
   "source": [
    "weight_data"
   ]
  },
  {
   "cell_type": "code",
   "execution_count": 17,
   "metadata": {
    "scrolled": false
   },
   "outputs": [
    {
     "data": {
      "text/plain": [
       "array([[ 1.,  0.],\n",
       "       [ 1.,  0.],\n",
       "       [ 1.,  0.],\n",
       "       [ 1.,  0.],\n",
       "       [ 1.,  0.],\n",
       "       [ 1.,  0.],\n",
       "       [ 1.,  0.],\n",
       "       [ 1.,  0.],\n",
       "       [ 1.,  0.],\n",
       "       [ 1.,  0.],\n",
       "       [ 1.,  1.],\n",
       "       [ 1.,  1.],\n",
       "       [ 1.,  1.],\n",
       "       [ 1.,  1.],\n",
       "       [ 1.,  1.],\n",
       "       [ 1.,  1.],\n",
       "       [ 1.,  1.],\n",
       "       [ 1.,  1.],\n",
       "       [ 1.,  1.],\n",
       "       [ 1.,  1.],\n",
       "       [ 1.,  2.],\n",
       "       [ 1.,  2.],\n",
       "       [ 1.,  2.],\n",
       "       [ 1.,  2.],\n",
       "       [ 1.,  2.],\n",
       "       [ 1.,  2.],\n",
       "       [ 1.,  2.],\n",
       "       [ 1.,  2.],\n",
       "       [ 1.,  2.],\n",
       "       [ 1.,  2.],\n",
       "       [ 1.,  3.],\n",
       "       [ 1.,  3.],\n",
       "       [ 1.,  3.],\n",
       "       [ 1.,  3.],\n",
       "       [ 1.,  3.],\n",
       "       [ 1.,  3.],\n",
       "       [ 1.,  3.],\n",
       "       [ 1.,  3.],\n",
       "       [ 1.,  3.],\n",
       "       [ 1.,  3.],\n",
       "       [ 1.,  4.],\n",
       "       [ 1.,  4.],\n",
       "       [ 1.,  4.],\n",
       "       [ 1.,  4.],\n",
       "       [ 1.,  4.],\n",
       "       [ 1.,  4.],\n",
       "       [ 1.,  4.],\n",
       "       [ 1.,  4.],\n",
       "       [ 1.,  4.],\n",
       "       [ 1.,  4.],\n",
       "       [ 1.,  5.],\n",
       "       [ 1.,  5.],\n",
       "       [ 1.,  5.],\n",
       "       [ 1.,  5.],\n",
       "       [ 1.,  5.],\n",
       "       [ 1.,  5.],\n",
       "       [ 1.,  5.],\n",
       "       [ 1.,  5.],\n",
       "       [ 1.,  5.],\n",
       "       [ 1.,  5.],\n",
       "       [ 1.,  6.],\n",
       "       [ 1.,  6.],\n",
       "       [ 1.,  6.],\n",
       "       [ 1.,  6.],\n",
       "       [ 1.,  6.],\n",
       "       [ 1.,  6.],\n",
       "       [ 1.,  6.],\n",
       "       [ 1.,  6.],\n",
       "       [ 1.,  6.],\n",
       "       [ 1.,  6.],\n",
       "       [ 1.,  7.],\n",
       "       [ 1.,  7.],\n",
       "       [ 1.,  7.],\n",
       "       [ 1.,  7.],\n",
       "       [ 1.,  7.],\n",
       "       [ 1.,  7.],\n",
       "       [ 1.,  7.],\n",
       "       [ 1.,  7.],\n",
       "       [ 1.,  7.],\n",
       "       [ 1.,  7.],\n",
       "       [ 1.,  8.],\n",
       "       [ 1.,  8.],\n",
       "       [ 1.,  8.],\n",
       "       [ 1.,  8.],\n",
       "       [ 1.,  8.],\n",
       "       [ 1.,  8.],\n",
       "       [ 1.,  8.],\n",
       "       [ 1.,  8.],\n",
       "       [ 1.,  8.],\n",
       "       [ 1.,  8.],\n",
       "       [ 1.,  9.],\n",
       "       [ 1.,  9.],\n",
       "       [ 1.,  9.],\n",
       "       [ 1.,  9.],\n",
       "       [ 1.,  9.],\n",
       "       [ 1.,  9.],\n",
       "       [ 1.,  9.],\n",
       "       [ 1.,  9.],\n",
       "       [ 1.,  9.],\n",
       "       [ 1.,  9.],\n",
       "       [ 1., 10.],\n",
       "       [ 1., 10.],\n",
       "       [ 1., 10.],\n",
       "       [ 1., 10.],\n",
       "       [ 1., 10.],\n",
       "       [ 1., 10.],\n",
       "       [ 1., 10.],\n",
       "       [ 1., 10.],\n",
       "       [ 1., 10.],\n",
       "       [ 1., 10.],\n",
       "       [ 1., 11.],\n",
       "       [ 1., 11.],\n",
       "       [ 1., 11.],\n",
       "       [ 1., 11.],\n",
       "       [ 1., 11.],\n",
       "       [ 1., 11.],\n",
       "       [ 1., 11.],\n",
       "       [ 1., 11.],\n",
       "       [ 1., 11.],\n",
       "       [ 1., 11.],\n",
       "       [ 1., 12.],\n",
       "       [ 1., 12.],\n",
       "       [ 1., 12.],\n",
       "       [ 1., 12.],\n",
       "       [ 1., 12.],\n",
       "       [ 1., 12.],\n",
       "       [ 1., 12.],\n",
       "       [ 1., 12.],\n",
       "       [ 1., 12.],\n",
       "       [ 1., 12.]])"
      ]
     },
     "execution_count": 17,
     "metadata": {},
     "output_type": "execute_result"
    }
   ],
   "source": [
    "X = np.array(month_data)\n",
    "X_0 = np.ones([X.shape[0], 1])\n",
    "X_1 = X[:, np.newaxis]\n",
    "X = np.concatenate((X_0, X_1), axis=1)\n",
    "# X = np.vstack([, ]) # little trick to add vector of 1's\n",
    "y = np.array(weight_data)\n",
    "X"
   ]
  },
  {
   "cell_type": "code",
   "execution_count": 6,
   "metadata": {},
   "outputs": [
    {
     "ename": "NameError",
     "evalue": "name 'X_pre' is not defined",
     "output_type": "error",
     "traceback": [
      "\u001b[0;31m---------------------------------------------------------------------------\u001b[0m",
      "\u001b[0;31mNameError\u001b[0m                                 Traceback (most recent call last)",
      "\u001b[0;32m<ipython-input-6-56507741efd5>\u001b[0m in \u001b[0;36m<module>\u001b[0;34m\u001b[0m\n\u001b[0;32m----> 1\u001b[0;31m \u001b[0mnp\u001b[0m\u001b[0;34m.\u001b[0m\u001b[0marray_equal\u001b[0m\u001b[0;34m(\u001b[0m\u001b[0mX\u001b[0m\u001b[0;34m,\u001b[0m \u001b[0mX_pre\u001b[0m\u001b[0;34m)\u001b[0m\u001b[0;34m\u001b[0m\u001b[0;34m\u001b[0m\u001b[0m\n\u001b[0m",
      "\u001b[0;31mNameError\u001b[0m: name 'X_pre' is not defined"
     ]
    }
   ],
   "source": [
    "np.array_equal(X, X_pre)"
   ]
  },
  {
   "cell_type": "code",
   "execution_count": 36,
   "metadata": {},
   "outputs": [],
   "source": [
    "def ols(X, y):\n",
    "    '''returns parameters based on Ordinary Least Squares.'''\n",
    "    xtx = np.dot(X.T, X) ## x-transpose times x\n",
    "    inv_xtx = np.linalg.inv(xtx) ## inverse of x-transpose times x\n",
    "    xty = np.dot(X.T, y) ## x-transpose times y\n",
    "    return np.dot(inv_xtx, xty)"
   ]
  },
  {
   "cell_type": "code",
   "execution_count": 39,
   "metadata": {},
   "outputs": [
    {
     "data": {
      "text/plain": [
       "array([[ 0.027, -0.003],\n",
       "       [-0.003,  0.001]])"
      ]
     },
     "execution_count": 39,
     "metadata": {},
     "output_type": "execute_result"
    }
   ],
   "source": [
    "    xtx = np.dot(X.T, X) ## x-transpose times x\n",
    "    inv_xtx = np.linalg.inv(xtx) ## inverse of x-transpose times x\n",
    "    xty = np.dot(X.T, y) ## x-transpose times y\n",
    "    inv_xtx"
   ]
  },
  {
   "cell_type": "code",
   "execution_count": 33,
   "metadata": {},
   "outputs": [
    {
     "name": "stdout",
     "output_type": "stream",
     "text": [
      "intercept: 90.83 | slope: 25.09\n"
     ]
    },
    {
     "ename": "NameError",
     "evalue": "name 'xtx' is not defined",
     "output_type": "error",
     "traceback": [
      "\u001b[0;31m---------------------------------------------------------------------------\u001b[0m",
      "\u001b[0;31mNameError\u001b[0m                                 Traceback (most recent call last)",
      "\u001b[0;32m<ipython-input-33-e41f2be1a5be>\u001b[0m in \u001b[0;36m<module>\u001b[0;34m\u001b[0m\n\u001b[1;32m      3\u001b[0m \u001b[0mintercept\u001b[0m\u001b[0;34m,\u001b[0m \u001b[0mslope\u001b[0m \u001b[0;34m=\u001b[0m \u001b[0mparams\u001b[0m\u001b[0;34m\u001b[0m\u001b[0;34m\u001b[0m\u001b[0m\n\u001b[1;32m      4\u001b[0m \u001b[0mprint\u001b[0m\u001b[0;34m(\u001b[0m\u001b[0;34m'intercept: {:.2f} | slope: {:.2f}'\u001b[0m\u001b[0;34m.\u001b[0m\u001b[0mformat\u001b[0m\u001b[0;34m(\u001b[0m\u001b[0mintercept\u001b[0m\u001b[0;34m,\u001b[0m \u001b[0mslope\u001b[0m\u001b[0;34m)\u001b[0m\u001b[0;34m)\u001b[0m\u001b[0;34m\u001b[0m\u001b[0;34m\u001b[0m\u001b[0m\n\u001b[0;32m----> 5\u001b[0;31m \u001b[0mxtx\u001b[0m\u001b[0;34m\u001b[0m\u001b[0;34m\u001b[0m\u001b[0m\n\u001b[0m",
      "\u001b[0;31mNameError\u001b[0m: name 'xtx' is not defined"
     ]
    }
   ],
   "source": [
    "# find parameters\n",
    "params = ols(X,y)\n",
    "intercept, slope = params\n",
    "print('intercept: {:.2f} | slope: {:.2f}'.format(intercept, slope))"
   ]
  },
  {
   "cell_type": "code",
   "execution_count": 21,
   "metadata": {},
   "outputs": [
    {
     "data": {
      "text/plain": [
       "Text(0, 0.5, 'Weight (?)')"
      ]
     },
     "execution_count": 21,
     "metadata": {},
     "output_type": "execute_result"
    },
    {
     "data": {
      "image/png": "[encoded data removed]",
      "text/plain": [
       "<Figure size 648x432 with 1 Axes>"
      ]
     },
     "metadata": {
      "needs_background": "light"
     },
     "output_type": "display_data"
    }
   ],
   "source": [
    "## here we draw a graph of the linear estimator\n",
    "import matplotlib.pyplot as plt\n",
    "%matplotlib inline\n",
    "\n",
    "fig, axes = plt.subplots(1, 1, figsize=(9, 6))\n",
    "axes.scatter(month_data, weight_data)\n",
    "x_vals = np.array(axes.get_xlim())\n",
    "y_vals = params[0] + params[1] * x_vals\n",
    "axes.plot(x_vals, y_vals, 'r--')\n",
    "plt.title('Linear Regression example')\n",
    "plt.xlabel('Age (Months)')\n",
    "plt.ylabel('Weight (?)')"
   ]
  },
  {
   "cell_type": "code",
   "execution_count": 80,
   "metadata": {},
   "outputs": [],
   "source": [
    "class Regressor:\n",
    "    \n",
    "    def fit():\n",
    "        print(\"Regressor.fit() - override me\")\n",
    "        \n",
    "    def predict():\n",
    "        print(\"Regressor.predict() - override me\")\n",
    "\n",
    "class LinearRegressor(Regressor):\n",
    "    \n",
    "    def __init__(self):\n",
    "        # declare/initialise the intercept (e.g. beta_0) as an instance attribute\n",
    "        self.intercept = 0\n",
    "        # declare/initialise the slope (e.g. beta_1) as an instance attribute\n",
    "        self.slope = 0    \n",
    "        pass\n",
    "    \n",
    "    def fit(self, X, y):\n",
    "        \"\"\"\n",
    "        Fit model coefficients. This will update the intercept and the slope values\n",
    "        initialised in the constructor on the basis of the input X and output y provided\n",
    "        using Ordinary Least Squares linear regression estimate.\n",
    "\n",
    "        Arguments:\n",
    "        X: 1D or 2D numpy array with input data (e.g. age data)\n",
    "        y: 1D numpy array with output data (e.g. weight data)\n",
    "        \"\"\"  \n",
    "        X = np.array(month_data)\n",
    "        X_0 = np.ones([X.shape[0], 1])\n",
    "        X_1 = X[:, np.newaxis]\n",
    "        X = np.concatenate((X_0, X_1), axis=1)\n",
    "        \n",
    "        self.xtx = np.dot(X.T, X)\n",
    "        self.inv_xtx = np.linalg.inv(self.xtx) ## inverse of x-transpose times x\n",
    "        self.xty = np.dot(X.T, y) ## x-transpose times y\n",
    "        self.intercept, self.slope = np.dot(self.inv_xtx, self.xty)\n",
    "        pass\n",
    "\n",
    "            \n",
    "    def predict(self, X):\n",
    "        \"\"\"\n",
    "        Output model prediction.\n",
    "\n",
    "        Arguments:\n",
    "        X: 1D or 2D numpy array \n",
    "        \n",
    "        Return:\n",
    "        predicted 'y' value(s) for the given input X\n",
    "        \"\"\"       \n",
    "        self.predict = np.multiply(self.slope, X) + self.intercept\n",
    "        pass"
   ]
  },
  {
   "cell_type": "code",
   "execution_count": 81,
   "metadata": {},
   "outputs": [
    {
     "name": "stdout",
     "output_type": "stream",
     "text": [
      "intercept: 90.83 | slope: 25.09\n"
     ]
    },
    {
     "data": {
      "text/plain": [
       "array([ 90.831, 115.916, 141.001, 166.087])"
      ]
     },
     "execution_count": 81,
     "metadata": {},
     "output_type": "execute_result"
    }
   ],
   "source": [
    "# We want our class to work with the code written here returning the same results as the ols() function\n",
    "regressor = LinearRegressor()\n",
    "regressor.fit(np.array(month_data), np.array(weight_data))\n",
    "print('intercept: {:.2f} | slope: {:.2f}'.format(regressor.intercept, regressor.slope))\n",
    "regressor.predict(np.arange(4))\n",
    "regressor.predict"
   ]
  }
 ],
 "metadata": {
  "kernelspec": {
   "display_name": "Python 3",
   "language": "python",
   "name": "python3"
  },
  "language_info": {
   "codemirror_mode": {
    "name": "ipython",
    "version": 3
   },
   "file_extension": ".py",
   "mimetype": "text/x-python",
   "name": "python",
   "nbconvert_exporter": "python",
   "pygments_lexer": "ipython3",
   "version": "3.7.4"
  }
 },
 "nbformat": 4,
 "nbformat_minor": 2
}
