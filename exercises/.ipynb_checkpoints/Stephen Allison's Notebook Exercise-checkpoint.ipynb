{
 "cells": [
  {
   "cell_type": "code",
   "execution_count": 1,
   "metadata": {},
   "outputs": [],
   "source": [
    "from time import sleep"
   ]
  },
  {
   "cell_type": "code",
   "execution_count": 2,
   "metadata": {},
   "outputs": [],
   "source": [
    "sleep(2)"
   ]
  },
  {
   "cell_type": "code",
   "execution_count": 3,
   "metadata": {},
   "outputs": [],
   "source": [
    "%matplotlib inline"
   ]
  },
  {
   "cell_type": "code",
   "execution_count": 4,
   "metadata": {},
   "outputs": [
    {
     "data": {
      "image/png": "[encoded data removed]",
      "text/plain": [
       "<Figure size 640x480 with 1 Axes>"
      ]
     },
     "metadata": {},
     "output_type": "display_data"
    }
   ],
   "source": [
    "\"\"\"\n",
    "====================\n",
    "Horizontal bar chart\n",
    "====================\n",
    "\n",
    "This example showcases a simple horizontal bar chart.\n",
    "\"\"\"\n",
    "import matplotlib.pyplot as plt\n",
    "plt.rcdefaults()\n",
    "import numpy as np\n",
    "import matplotlib.pyplot as plt\n",
    "\n",
    "\n",
    "plt.rcdefaults()\n",
    "fig, ax = plt.subplots()\n",
    "\n",
    "# Example data\n",
    "people = ('Tom', 'Dick', 'Harry', 'Slim', 'Jim')\n",
    "y_pos = np.arange(len(people))\n",
    "performance = 3 + 10 * np.random.rand(len(people))\n",
    "error = np.random.rand(len(people))\n",
    "\n",
    "ax.barh(y_pos, performance, xerr=error, align='center',\n",
    "        color='green', ecolor='black')\n",
    "ax.set_yticks(y_pos)\n",
    "ax.set_yticklabels(people)\n",
    "ax.invert_yaxis()  # labels read top-to-bottom\n",
    "ax.set_xlabel('Performance')\n",
    "ax.set_title('How fast do you want to go today?')\n",
    "\n",
    "plt.show()"
   ]
  },
  {
   "cell_type": "code",
   "execution_count": 5,
   "metadata": {},
   "outputs": [],
   "source": [
    "b = 5"
   ]
  },
  {
   "cell_type": "code",
   "execution_count": 6,
   "metadata": {},
   "outputs": [
    {
     "data": {
      "text/plain": [
       "5"
      ]
     },
     "execution_count": 6,
     "metadata": {},
     "output_type": "execute_result"
    }
   ],
   "source": [
    "b"
   ]
  },
  {
   "cell_type": "markdown",
   "metadata": {},
   "source": [
    "<math display=\"block\">\n",
    "  <mi>x</mi>\n",
    "  <mo>=</mo>\n",
    "  <mrow class=\"MJX-TeXAtom-ORD\">\n",
    "    <mfrac>\n",
    "      <mrow>\n",
    "        <mo>&#x2212;</mo>\n",
    "        <mi>b</mi>\n",
    "        <mo>&#xB1;</mo>\n",
    "        <msqrt>\n",
    "          <msup>\n",
    "            <mi>b</mi>\n",
    "            <mn>2</mn>\n",
    "          </msup>\n",
    "          <mo>&#x2212;</mo>\n",
    "          <mn>4</mn>\n",
    "          <mi>a</mi>\n",
    "          <mi>c</mi>\n",
    "        </msqrt>\n",
    "      </mrow>\n",
    "      <mrow>\n",
    "        <mn>2</mn>\n",
    "        <mi>a</mi>\n",
    "      </mrow>\n",
    "    </mfrac>\n",
    "  </mrow>\n",
    "  <mo>.</mo>\n",
    "</math>"
   ]
  },
  {
   "cell_type": "markdown",
   "metadata": {},
   "source": [
    "<math display=\"block\">\n",
    "  <mi>f</mi>\n",
    "  <mo stretchy=\"false\">(</mo>\n",
    "  <mi>a</mi>\n",
    "  <mo stretchy=\"false\">)</mo>\n",
    "  <mo>=</mo>\n",
    "  <mfrac>\n",
    "    <mn>1</mn>\n",
    "    <mrow>\n",
    "      <mn>2</mn>\n",
    "      <mi>&#x3C0;</mi>\n",
    "      <mi>i</mi>\n",
    "    </mrow>\n",
    "  </mfrac>\n",
    "  <mo>&#x222E;</mo>\n",
    "  <mfrac>\n",
    "    <mrow>\n",
    "      <mi>f</mi>\n",
    "      <mo stretchy=\"false\">(</mo>\n",
    "      <mi>z</mi>\n",
    "      <mo stretchy=\"false\">)</mo>\n",
    "    </mrow>\n",
    "    <mrow>\n",
    "      <mi>z</mi>\n",
    "      <mo>&#x2212;</mo>\n",
    "      <mi>a</mi>\n",
    "    </mrow>\n",
    "  </mfrac>\n",
    "  <mi>d</mi>\n",
    "  <mi>z</mi>\n",
    "</math>"
   ]
  },
  {
   "cell_type": "markdown",
   "metadata": {},
   "source": [
    "<math display=\"block\">\n",
    "  <mi>cos</mi>\n",
    "  <mo>&#x2061;</mo>\n",
    "  <mo stretchy=\"false\">(</mo>\n",
    "  <mrow class=\"MJX-TeXAtom-ORD\">\n",
    "    <mo>&#x3B8;</mo>\n",
    "  </mrow>\n",
    "  <mo>+</mo>\n",
    "  <mrow class=\"MJX-TeXAtom-ORD\">\n",
    "    <mo>&#x3C6;</mo>\n",
    "  </mrow>\n",
    "  <mo stretchy=\"false\">)</mo>\n",
    "  <mo>=</mo>\n",
    "  <mi>cos</mi>\n",
    "  <mo>&#x2061;</mo>\n",
    "  <mo stretchy=\"false\">(</mo>\n",
    "  <mrow class=\"MJX-TeXAtom-ORD\">\n",
    "    <mo>&#x3B8;</mo>\n",
    "  </mrow>\n",
    "  <mo stretchy=\"false\">)</mo>\n",
    "  <mi>cos</mi>\n",
    "  <mo>&#x2061;</mo>\n",
    "  <mo stretchy=\"false\">(</mo>\n",
    "  <mrow class=\"MJX-TeXAtom-ORD\">\n",
    "    <mo>&#x3C6;</mo>\n",
    "  </mrow>\n",
    "  <mo stretchy=\"false\">)</mo>\n",
    "  <mo>&#x2212;</mo>\n",
    "  <mi>sin</mi>\n",
    "  <mo>&#x2061;</mo>\n",
    "  <mo stretchy=\"false\">(</mo>\n",
    "  <mrow class=\"MJX-TeXAtom-ORD\">\n",
    "    <mo>&#x3B8;</mo>\n",
    "  </mrow>\n",
    "  <mo stretchy=\"false\">)</mo>\n",
    "  <mi>sin</mi>\n",
    "  <mo>&#x2061;</mo>\n",
    "  <mo stretchy=\"false\">(</mo>\n",
    "  <mrow class=\"MJX-TeXAtom-ORD\">\n",
    "    <mo>&#x3C6;</mo>\n",
    "  </mrow>\n",
    "  <mo stretchy=\"false\">)</mo>\n",
    "</math>"
   ]
  }
 ],
 "metadata": {
  "kernelspec": {
   "display_name": "Python 3",
   "language": "python",
   "name": "python3"
  },
  "language_info": {
   "codemirror_mode": {
    "name": "ipython",
    "version": 3
   },
   "file_extension": ".py",
   "mimetype": "text/x-python",
   "name": "python",
   "nbconvert_exporter": "python",
   "pygments_lexer": "ipython3",
   "version": "3.7.4"
  }
 },
 "nbformat": 4,
 "nbformat_minor": 2
}
