{
 "cells": [
  {
   "cell_type": "markdown",
   "metadata": {},
   "source": [
    "# Final Assignment Part 1: Exercises on Basic Python and Numpy"
   ]
  },
  {
   "cell_type": "markdown",
   "metadata": {},
   "source": [
    "### Logistics\n",
    "\n",
    "**Deadline.** Parts 1 and 2 of the Capstone project are due at 11:59pm on Wednesday, 18 December 2019. Late submissions will not be accepted. This notebook forms Part 1 of the Assignment and count up to 30 points out of the 100 maximum points of the assignment.\n",
    "\n",
    "**Rules.** Don't share your code with anybody. You are welcome to discuss questions with other students, but don't share the answers.\n",
    "\n",
    "**Support.** You are not alone! The Slack workspace at https://i2pp4ds-mt2019.slack.com will be stay active up until after the assignment deadline. Please feel free to ask each other questions and discuss approaches, even if you're not in the same physical classroom. The tutor will be available to answer general questions too, so please **do not hesitate** to ask questions even after the last week of term. \n",
    "\n",
    "**Advice.** Develop your answers incrementally. To perform a complicated table manipulation, break it up into steps, perform each step on a different line, give a new name to each result, and check that each intermediate result is what you expect. You can add any additional names or functions you want to the provided cells. "
   ]
  },
  {
   "cell_type": "markdown",
   "metadata": {},
   "source": [
    "Consider the following list of records, expressed as tuples, where the first tuple in the list contains the header for each record:\n",
    "\n",
    "```\n",
    "records = [\n",
    "    ('name', 'sex', 'age', 'age_unit', 'height', 'height_unit', 'weight', 'weight_unit'),\n",
    "    ('Mark', 'M', 12, 'year', 146, 'cm', 39, 'kg'),\n",
    "    ('Lisa', 'F', 10, 'year', 1.33, 'm', 30, 'kg'),\n",
    "    ('Amin', 'M', 36, 'month', 92, 'cm', 114, 'hg'),\n",
    "    ('Peter', 'M', 1, 'month', 52, 'cm', 3900, 'g'),\n",
    "    ('Marcus', 'M', 12, 'month', 135, 'cm', 42, 'kg'),\n",
    "    ('Johanna', 'F', 8, 'year', 1.25, 'm', 24, 'kg'),\n",
    "    ('Cora', 'F', 4, 'year', 99, 'cm', 155, 'hg'),\n",
    "    ('Shiny', 'F', 6, 'year', 1.15, 'm', 3900, 'g'),\n",
    "    ('Tom', 'M', 12, 'year', 151, 'cm', 42, 'kg'),\n",
    "    ('Eva', 'F', 9, 'year', 1.34, 'm', 29, 'kg'),\n",
    "    ('Marilena', 'F', 20, 'month', 84, 'cm', 112, 'hg'),\n",
    "    ('Evelyn', 'F', 2, 'month', 56, 'cm', 5350, 'g'),\n",
    "    ('Evelyn', 'M', 5, 'year', 1.10, 'm', 18.5, 'kg'),\n",
    "    ('Milly', 'F', 7, 'year', 1.25, 'm', 23, 'kg'),\n",
    "    ('Rupert', 'M', 10, 'year', 140, 'cm', 40, 'kg'),\n",
    "    ('Marco', 'M', 6, 'year', 1.14, 'm', 20, 'kg'),\n",
    "    ('Lisa', 'F', 5, 'year', 1.08, 'm', 17.5, 'kg'),\n",
    "    ('Emma', 'F', 6, 'month', 64.4, 'cm', 7640, 'g'),\n",
    "    ('Rob', 'M', 18, 'month', 83.5, 'cm', 109, 'hg'),\n",
    "    ('Kirk', 'M', 12, 'year', 1.48, 'm', 38, 'kg')\n",
    "]\n",
    "```"
   ]
  },
  {
   "cell_type": "markdown",
   "metadata": {},
   "source": [
    "## 1. Tuples to Dict Conversion (5 points)"
   ]
  },
  {
   "cell_type": "markdown",
   "metadata": {},
   "source": [
    "Covert the `records` tuples into a list of dictionaries where using the first tuple as keys and each of the other tuples as values.\n",
    "\n",
    "- How many dictionaries are there in the resulting list?"
   ]
  },
  {
   "cell_type": "code",
   "execution_count": 2,
   "metadata": {},
   "outputs": [],
   "source": [
    "### Write your solution here\n"
   ]
  },
  {
   "cell_type": "markdown",
   "metadata": {},
   "source": [
    "### 2. Data Pre-processing (5 points)\n",
    "\n",
    "Convert the records in `records` so that \n",
    " - the 'age' columns is expressed in years\n",
    " - the 'height' column is expressed in m\n",
    " - the 'weight' column is expressed in kg\n",
    " \n",
    "Store the three resulting columns, together with the 'sex' column into a numpy array"
   ]
  },
  {
   "cell_type": "code",
   "execution_count": 2,
   "metadata": {},
   "outputs": [],
   "source": [
    "### Write your solution here\n"
   ]
  },
  {
   "cell_type": "markdown",
   "metadata": {},
   "source": [
    "### 3. Statistics Analysis (5 points, half a point per correct answer)\n",
    "\n",
    "Compute the following statistics:\n",
    "    - average height\n",
    "    - average weight\n",
    "    - median height\n",
    "    - median weight\n",
    "    - standard deviation of the height\n",
    "    - standard deviation of the weight\n",
    "    - interquartile range for the height\n",
    "    - interquartile range for the weight"
   ]
  },
  {
   "cell_type": "code",
   "execution_count": 2,
   "metadata": {},
   "outputs": [],
   "source": [
    "### Write your solution here\n"
   ]
  },
  {
   "cell_type": "markdown",
   "metadata": {},
   "source": [
    "### 4. Covariance and Correlation Matrix (5 points)\n",
    "\n",
    "- Compute the height-weight-age covariance matrix\n",
    "- Compute the height-weight-age correlation matrix matrix\n",
    "- Which property between 'height' and 'weight' shows the highest correlation with age?"
   ]
  },
  {
   "cell_type": "code",
   "execution_count": 2,
   "metadata": {},
   "outputs": [],
   "source": [
    "### Write your solution here\n"
   ]
  },
  {
   "cell_type": "markdown",
   "metadata": {},
   "source": [
    "### 5. Ordinary Least  Square (OLS) estimate (5 points)\n",
    "\n",
    "For male ('M') and female ('S') compute the linear regression using Ordinary Least Squares estimation for the height with respect to age. Use numpy to compute the coefficient and the intercept of the linear model that better fits the data.\n",
    "\n",
    "The OLS formulae are explained in slides 18-20 of Lecture 8 slides, and some inspiration for your implementation can be found in Lecture 8 live demo `/live-demos/08_Classes.ipynb`."
   ]
  },
  {
   "cell_type": "code",
   "execution_count": 2,
   "metadata": {},
   "outputs": [],
   "source": [
    "### Write your solution here\n"
   ]
  },
  {
   "cell_type": "markdown",
   "metadata": {},
   "source": [
    "### 6. Plot the result of the Ordinary Least Square estimate (5 points)\n",
    "\n",
    "Using `matplotlib` draw one plot, where:\n",
    "    - you plot the data of the height with respect to age, for males in colour 'red' and for females in 'cyan'\n",
    "    - you plot the OLS resulting line computed in the previous exercise, for males in colour 'orange' and for females in 'blue'\n",
    "    \n",
    "Remember to add a title to the figure, label the two axis, and possibly provide a legend explaining the colour codes"
   ]
  },
  {
   "cell_type": "code",
   "execution_count": null,
   "metadata": {},
   "outputs": [],
   "source": [
    "### Write your solution here"
   ]
  },
  {
   "cell_type": "markdown",
   "metadata": {},
   "source": [
    "### End of Part 1\n",
    "\n",
    "Good job! You have completed part 1 of the final assignment. Do not forget to save it and send it to Massi\n",
    "by the deadline"
   ]
  },
  {
   "cell_type": "code",
   "execution_count": null,
   "metadata": {},
   "outputs": [],
   "source": []
  }
 ],
 "metadata": {
  "kernelspec": {
   "display_name": "Python 3",
   "language": "python",
   "name": "python3"
  },
  "language_info": {
   "codemirror_mode": {
    "name": "ipython",
    "version": 3
   },
   "file_extension": ".py",
   "mimetype": "text/x-python",
   "name": "python",
   "nbconvert_exporter": "python",
   "pygments_lexer": "ipython3",
   "version": "3.7.4"
  }
 },
 "nbformat": 4,
 "nbformat_minor": 2
}
